{
 "cells": [
  {
   "cell_type": "code",
   "execution_count": 23,
   "metadata": {},
   "outputs": [
    {
     "name": "stdout",
     "output_type": "stream",
     "text": [
      "500 1\n",
      "340 290\n",
      "120 92\n",
      "5 1\n",
      "5.0 1.0\n",
      "5.0 1.0\n",
      "9.92 6.8\n",
      "1 0\n",
      "0.97 0.34\n",
      "       Serial No.   GRE Score  TOEFL Score  University Rating         SOP  \\\n",
      "count  500.000000  500.000000   500.000000         500.000000  500.000000   \n",
      "mean   250.500000  316.472000   107.192000           3.114000    3.374000   \n",
      "std    144.481833   11.295148     6.081868           1.143512    0.991004   \n",
      "min      1.000000  290.000000    92.000000           1.000000    1.000000   \n",
      "25%    125.750000  308.000000   103.000000           2.000000    2.500000   \n",
      "50%    250.500000  317.000000   107.000000           3.000000    3.500000   \n",
      "75%    375.250000  325.000000   112.000000           4.000000    4.000000   \n",
      "max    500.000000  340.000000   120.000000           5.000000    5.000000   \n",
      "\n",
      "            LOR         CGPA    Research  Chance of Admit   \n",
      "count  500.00000  500.000000  500.000000         500.00000  \n",
      "mean     3.48400    8.576440    0.560000           0.72174  \n",
      "std      0.92545    0.604813    0.496884           0.14114  \n",
      "min      1.00000    6.800000    0.000000           0.34000  \n",
      "25%      3.00000    8.127500    0.000000           0.63000  \n",
      "50%      3.50000    8.560000    1.000000           0.72000  \n",
      "75%      4.00000    9.040000    1.000000           0.82000  \n",
      "max      5.00000    9.920000    1.000000           0.97000  \n"
     ]
    }
   ],
   "source": [
    "import csv\n",
    "import pandas as pd\n",
    "data='Admission_Predict_Ver1.1.csv'\n",
    "lister=[]\n",
    "lister=pd.read_csv(data,delimiter=',')\n",
    "lister.columns\n",
    "print(lister['Serial No.'].max(),lister['Serial No.'].min())\n",
    "print(lister['GRE Score'].max(),lister['GRE Score'].min())\n",
    "print(lister['TOEFL Score'].max(),lister['TOEFL Score'].min())\n",
    "print(lister['University Rating'].max(),lister['University Rating'].min())\n",
    "print(lister['SOP'].max(),lister['SOP'].min())\n",
    "print(lister['LOR '].max(),lister['LOR '].min())\n",
    "print(lister['CGPA'].max(),lister['CGPA'].min())\n",
    "print(lister['Research'].max(),lister['Research'].min())\n",
    "print(lister['Chance of Admit '].max(),lister['Chance of Admit '].min())  \n",
    "\n",
    "print(lister.describe())"
   ]
  },
  {
   "cell_type": "code",
   "execution_count": null,
   "metadata": {},
   "outputs": [],
   "source": [
    "Index(['Serial No.', 'GRE Score', 'TOEFL Score', 'University Rating', 'SOP',\n",
    "       'LOR ', 'CGPA', 'Research', 'Chance of Admit '],\n",
    "      dtype='object')"
   ]
  },
  {
   "cell_type": "code",
   "execution_count": null,
   "metadata": {},
   "outputs": [],
   "source": []
  },
  {
   "cell_type": "code",
   "execution_count": null,
   "metadata": {},
   "outputs": [],
   "source": []
  },
  {
   "cell_type": "code",
   "execution_count": null,
   "metadata": {},
   "outputs": [],
   "source": []
  },
  {
   "cell_type": "code",
   "execution_count": null,
   "metadata": {},
   "outputs": [],
   "source": []
  }
 ],
 "metadata": {
  "kernelspec": {
   "display_name": "Python 3",
   "language": "python",
   "name": "python3"
  },
  "language_info": {
   "codemirror_mode": {
    "name": "ipython",
    "version": 3
   },
   "file_extension": ".py",
   "mimetype": "text/x-python",
   "name": "python",
   "nbconvert_exporter": "python",
   "pygments_lexer": "ipython3",
   "version": "3.7.1"
  }
 },
 "nbformat": 4,
 "nbformat_minor": 2
}
