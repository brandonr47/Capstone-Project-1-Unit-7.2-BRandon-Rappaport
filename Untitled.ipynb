{
 "cells": [
  {
   "cell_type": "code",
   "execution_count": 81,
   "metadata": {},
   "outputs": [],
   "source": [
    "import csv\n",
    "data='Admission_Predict_Ver1.1.csv'\n",
    "lister=[]\n",
    "with open(data) as csvfile:\n",
    "    readCSV = csv.reader(csvfile, delimiter=',')\n",
    "    for row in readCSV:\n",
    "        lister.append(row)\n",
    "Ser=[]\n",
    "GRE=[]\n",
    "TOEFL=[]\n",
    "Rating=[]\n",
    "SOP=[]\n",
    "LOR=[]\n",
    "CGPA=[]\n",
    "Res=[]\n",
    "Admit=[]\n",
    "lenglist=0\n",
    "lenglist==(len(lister)-1)\n",
    "for x in range(lenglist):\n",
    "   Ser.append(lister[x+1][0])\n",
    "   GRE.append(lister[x+1][1])\n",
    "   TOEFL.append(lister[x+1][2])\n",
    "   Rating.append(lister[x+1][3])\n",
    "   SOP.append(lister[x+1][4])\n",
    "   LOR.append(lister[x+1][5])\n",
    "   CGPA.append(lister[x+1][6])\n",
    "   Res.append(lister[x+1][7])\n",
    "   Admit.append(lister[x+1][8]) "
   ]
  },
  {
   "cell_type": "code",
   "execution_count": null,
   "metadata": {},
   "outputs": [],
   "source": []
  },
  {
   "cell_type": "code",
   "execution_count": null,
   "metadata": {},
   "outputs": [],
   "source": []
  },
  {
   "cell_type": "code",
   "execution_count": null,
   "metadata": {},
   "outputs": [],
   "source": []
  },
  {
   "cell_type": "code",
   "execution_count": null,
   "metadata": {},
   "outputs": [],
   "source": []
  },
  {
   "cell_type": "code",
   "execution_count": null,
   "metadata": {},
   "outputs": [],
   "source": []
  }
 ],
 "metadata": {
  "kernelspec": {
   "display_name": "Python 3",
   "language": "python",
   "name": "python3"
  },
  "language_info": {
   "codemirror_mode": {
    "name": "ipython",
    "version": 3
   },
   "file_extension": ".py",
   "mimetype": "text/x-python",
   "name": "python",
   "nbconvert_exporter": "python",
   "pygments_lexer": "ipython3",
   "version": "3.7.1"
  }
 },
 "nbformat": 4,
 "nbformat_minor": 2
}
